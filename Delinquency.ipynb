{
 "cells": [
  {
   "cell_type": "code",
   "execution_count": 1,
   "metadata": {},
   "outputs": [
    {
     "data": {
      "text/plain": [
       "'C:\\\\Users\\\\Ramsey Bolton\\\\Downloads\\\\Compressed\\\\Refactored_Py_DS_ML_Bootcamp-master'"
      ]
     },
     "execution_count": 1,
     "metadata": {},
     "output_type": "execute_result"
    }
   ],
   "source": [
    "pwd"
   ]
  },
  {
   "cell_type": "code",
   "execution_count": 2,
   "metadata": {},
   "outputs": [],
   "source": [
    "import warnings\n",
    "warnings.filterwarnings('always')\n",
    "warnings.filterwarnings('ignore')\n",
    "import numpy as np\n",
    "import pandas as pd\n",
    "import matplotlib.pyplot as plt\n",
    "from matplotlib import style\n",
    "import seaborn as sns\n",
    "import missingno as msno"
   ]
  },
  {
   "cell_type": "code",
   "execution_count": 3,
   "metadata": {},
   "outputs": [],
   "source": [
    "%matplotlib inline  \n",
    "style.use('fivethirtyeight')\n",
    "sns.set(style='whitegrid',color_codes=True)"
   ]
  },
  {
   "cell_type": "code",
   "execution_count": 4,
   "metadata": {},
   "outputs": [],
   "source": [
    "df=pd.read_csv(\"C:\\\\Users\\\\Ramsey Bolton\\\\Downloads\\\\Compressed\\\\Refactored_Py_DS_ML_Bootcamp-master\\\\Algo8 Usecase\\\\sample_data_intw.csv\")"
   ]
  },
  {
   "cell_type": "code",
   "execution_count": 5,
   "metadata": {},
   "outputs": [
    {
     "data": {
      "text/html": [
       "<div>\n",
       "<style scoped>\n",
       "    .dataframe tbody tr th:only-of-type {\n",
       "        vertical-align: middle;\n",
       "    }\n",
       "\n",
       "    .dataframe tbody tr th {\n",
       "        vertical-align: top;\n",
       "    }\n",
       "\n",
       "    .dataframe thead th {\n",
       "        text-align: right;\n",
       "    }\n",
       "</style>\n",
       "<table border=\"1\" class=\"dataframe\">\n",
       "  <thead>\n",
       "    <tr style=\"text-align: right;\">\n",
       "      <th></th>\n",
       "      <th>Unnamed: 0</th>\n",
       "      <th>label</th>\n",
       "      <th>msisdn</th>\n",
       "      <th>aon</th>\n",
       "      <th>daily_decr30</th>\n",
       "      <th>daily_decr90</th>\n",
       "      <th>rental30</th>\n",
       "      <th>rental90</th>\n",
       "      <th>last_rech_date_ma</th>\n",
       "      <th>last_rech_date_da</th>\n",
       "      <th>...</th>\n",
       "      <th>maxamnt_loans30</th>\n",
       "      <th>medianamnt_loans30</th>\n",
       "      <th>cnt_loans90</th>\n",
       "      <th>amnt_loans90</th>\n",
       "      <th>maxamnt_loans90</th>\n",
       "      <th>medianamnt_loans90</th>\n",
       "      <th>payback30</th>\n",
       "      <th>payback90</th>\n",
       "      <th>pcircle</th>\n",
       "      <th>pdate</th>\n",
       "    </tr>\n",
       "  </thead>\n",
       "  <tbody>\n",
       "    <tr>\n",
       "      <th>0</th>\n",
       "      <td>1</td>\n",
       "      <td>0</td>\n",
       "      <td>21408I70789</td>\n",
       "      <td>272.0</td>\n",
       "      <td>3055.050000</td>\n",
       "      <td>3065.150000</td>\n",
       "      <td>220.13</td>\n",
       "      <td>260.13</td>\n",
       "      <td>2.0</td>\n",
       "      <td>0.0</td>\n",
       "      <td>...</td>\n",
       "      <td>6.0</td>\n",
       "      <td>0.0</td>\n",
       "      <td>2.0</td>\n",
       "      <td>12</td>\n",
       "      <td>6</td>\n",
       "      <td>0.0</td>\n",
       "      <td>29.000000</td>\n",
       "      <td>29.000000</td>\n",
       "      <td>UPW</td>\n",
       "      <td>2016-07-20</td>\n",
       "    </tr>\n",
       "    <tr>\n",
       "      <th>1</th>\n",
       "      <td>2</td>\n",
       "      <td>1</td>\n",
       "      <td>76462I70374</td>\n",
       "      <td>712.0</td>\n",
       "      <td>12122.000000</td>\n",
       "      <td>12124.750000</td>\n",
       "      <td>3691.26</td>\n",
       "      <td>3691.26</td>\n",
       "      <td>20.0</td>\n",
       "      <td>0.0</td>\n",
       "      <td>...</td>\n",
       "      <td>12.0</td>\n",
       "      <td>0.0</td>\n",
       "      <td>1.0</td>\n",
       "      <td>12</td>\n",
       "      <td>12</td>\n",
       "      <td>0.0</td>\n",
       "      <td>0.000000</td>\n",
       "      <td>0.000000</td>\n",
       "      <td>UPW</td>\n",
       "      <td>2016-08-10</td>\n",
       "    </tr>\n",
       "    <tr>\n",
       "      <th>2</th>\n",
       "      <td>3</td>\n",
       "      <td>1</td>\n",
       "      <td>17943I70372</td>\n",
       "      <td>535.0</td>\n",
       "      <td>1398.000000</td>\n",
       "      <td>1398.000000</td>\n",
       "      <td>900.13</td>\n",
       "      <td>900.13</td>\n",
       "      <td>3.0</td>\n",
       "      <td>0.0</td>\n",
       "      <td>...</td>\n",
       "      <td>6.0</td>\n",
       "      <td>0.0</td>\n",
       "      <td>1.0</td>\n",
       "      <td>6</td>\n",
       "      <td>6</td>\n",
       "      <td>0.0</td>\n",
       "      <td>0.000000</td>\n",
       "      <td>0.000000</td>\n",
       "      <td>UPW</td>\n",
       "      <td>2016-08-19</td>\n",
       "    </tr>\n",
       "    <tr>\n",
       "      <th>3</th>\n",
       "      <td>4</td>\n",
       "      <td>1</td>\n",
       "      <td>55773I70781</td>\n",
       "      <td>241.0</td>\n",
       "      <td>21.228000</td>\n",
       "      <td>21.228000</td>\n",
       "      <td>159.42</td>\n",
       "      <td>159.42</td>\n",
       "      <td>41.0</td>\n",
       "      <td>0.0</td>\n",
       "      <td>...</td>\n",
       "      <td>6.0</td>\n",
       "      <td>0.0</td>\n",
       "      <td>2.0</td>\n",
       "      <td>12</td>\n",
       "      <td>6</td>\n",
       "      <td>0.0</td>\n",
       "      <td>0.000000</td>\n",
       "      <td>0.000000</td>\n",
       "      <td>UPW</td>\n",
       "      <td>2016-06-06</td>\n",
       "    </tr>\n",
       "    <tr>\n",
       "      <th>4</th>\n",
       "      <td>5</td>\n",
       "      <td>1</td>\n",
       "      <td>03813I82730</td>\n",
       "      <td>947.0</td>\n",
       "      <td>150.619333</td>\n",
       "      <td>150.619333</td>\n",
       "      <td>1098.90</td>\n",
       "      <td>1098.90</td>\n",
       "      <td>4.0</td>\n",
       "      <td>0.0</td>\n",
       "      <td>...</td>\n",
       "      <td>6.0</td>\n",
       "      <td>0.0</td>\n",
       "      <td>7.0</td>\n",
       "      <td>42</td>\n",
       "      <td>6</td>\n",
       "      <td>0.0</td>\n",
       "      <td>2.333333</td>\n",
       "      <td>2.333333</td>\n",
       "      <td>UPW</td>\n",
       "      <td>2016-06-22</td>\n",
       "    </tr>\n",
       "  </tbody>\n",
       "</table>\n",
       "<p>5 rows × 37 columns</p>\n",
       "</div>"
      ],
      "text/plain": [
       "   Unnamed: 0  label       msisdn    aon  daily_decr30  daily_decr90  \\\n",
       "0           1      0  21408I70789  272.0   3055.050000   3065.150000   \n",
       "1           2      1  76462I70374  712.0  12122.000000  12124.750000   \n",
       "2           3      1  17943I70372  535.0   1398.000000   1398.000000   \n",
       "3           4      1  55773I70781  241.0     21.228000     21.228000   \n",
       "4           5      1  03813I82730  947.0    150.619333    150.619333   \n",
       "\n",
       "   rental30  rental90  last_rech_date_ma  last_rech_date_da  ...  \\\n",
       "0    220.13    260.13                2.0                0.0  ...   \n",
       "1   3691.26   3691.26               20.0                0.0  ...   \n",
       "2    900.13    900.13                3.0                0.0  ...   \n",
       "3    159.42    159.42               41.0                0.0  ...   \n",
       "4   1098.90   1098.90                4.0                0.0  ...   \n",
       "\n",
       "   maxamnt_loans30  medianamnt_loans30  cnt_loans90  amnt_loans90  \\\n",
       "0              6.0                 0.0          2.0            12   \n",
       "1             12.0                 0.0          1.0            12   \n",
       "2              6.0                 0.0          1.0             6   \n",
       "3              6.0                 0.0          2.0            12   \n",
       "4              6.0                 0.0          7.0            42   \n",
       "\n",
       "   maxamnt_loans90  medianamnt_loans90  payback30  payback90  pcircle  \\\n",
       "0                6                 0.0  29.000000  29.000000      UPW   \n",
       "1               12                 0.0   0.000000   0.000000      UPW   \n",
       "2                6                 0.0   0.000000   0.000000      UPW   \n",
       "3                6                 0.0   0.000000   0.000000      UPW   \n",
       "4                6                 0.0   2.333333   2.333333      UPW   \n",
       "\n",
       "        pdate  \n",
       "0  2016-07-20  \n",
       "1  2016-08-10  \n",
       "2  2016-08-19  \n",
       "3  2016-06-06  \n",
       "4  2016-06-22  \n",
       "\n",
       "[5 rows x 37 columns]"
      ]
     },
     "execution_count": 5,
     "metadata": {},
     "output_type": "execute_result"
    }
   ],
   "source": [
    "df.head()"
   ]
  },
  {
   "cell_type": "code",
   "execution_count": 6,
   "metadata": {},
   "outputs": [
    {
     "data": {
      "text/plain": [
       "(209593, 37)"
      ]
     },
     "execution_count": 6,
     "metadata": {},
     "output_type": "execute_result"
    }
   ],
   "source": [
    "df.shape"
   ]
  },
  {
   "cell_type": "code",
   "execution_count": 7,
   "metadata": {},
   "outputs": [
    {
     "data": {
      "text/html": [
       "<div>\n",
       "<style scoped>\n",
       "    .dataframe tbody tr th:only-of-type {\n",
       "        vertical-align: middle;\n",
       "    }\n",
       "\n",
       "    .dataframe tbody tr th {\n",
       "        vertical-align: top;\n",
       "    }\n",
       "\n",
       "    .dataframe thead th {\n",
       "        text-align: right;\n",
       "    }\n",
       "</style>\n",
       "<table border=\"1\" class=\"dataframe\">\n",
       "  <thead>\n",
       "    <tr style=\"text-align: right;\">\n",
       "      <th></th>\n",
       "      <th>Unnamed: 0</th>\n",
       "      <th>label</th>\n",
       "      <th>aon</th>\n",
       "      <th>daily_decr30</th>\n",
       "      <th>daily_decr90</th>\n",
       "      <th>rental30</th>\n",
       "      <th>rental90</th>\n",
       "      <th>last_rech_date_ma</th>\n",
       "      <th>last_rech_date_da</th>\n",
       "      <th>last_rech_amt_ma</th>\n",
       "      <th>...</th>\n",
       "      <th>cnt_loans30</th>\n",
       "      <th>amnt_loans30</th>\n",
       "      <th>maxamnt_loans30</th>\n",
       "      <th>medianamnt_loans30</th>\n",
       "      <th>cnt_loans90</th>\n",
       "      <th>amnt_loans90</th>\n",
       "      <th>maxamnt_loans90</th>\n",
       "      <th>medianamnt_loans90</th>\n",
       "      <th>payback30</th>\n",
       "      <th>payback90</th>\n",
       "    </tr>\n",
       "  </thead>\n",
       "  <tbody>\n",
       "    <tr>\n",
       "      <th>count</th>\n",
       "      <td>209593.000000</td>\n",
       "      <td>209593.000000</td>\n",
       "      <td>209593.000000</td>\n",
       "      <td>209593.000000</td>\n",
       "      <td>209593.000000</td>\n",
       "      <td>209593.000000</td>\n",
       "      <td>209593.000000</td>\n",
       "      <td>209593.000000</td>\n",
       "      <td>209593.000000</td>\n",
       "      <td>209593.000000</td>\n",
       "      <td>...</td>\n",
       "      <td>209593.000000</td>\n",
       "      <td>209593.000000</td>\n",
       "      <td>209593.000000</td>\n",
       "      <td>209593.000000</td>\n",
       "      <td>209593.000000</td>\n",
       "      <td>209593.000000</td>\n",
       "      <td>209593.000000</td>\n",
       "      <td>209593.000000</td>\n",
       "      <td>209593.000000</td>\n",
       "      <td>209593.000000</td>\n",
       "    </tr>\n",
       "    <tr>\n",
       "      <th>mean</th>\n",
       "      <td>104797.000000</td>\n",
       "      <td>0.875177</td>\n",
       "      <td>8112.343445</td>\n",
       "      <td>5381.402289</td>\n",
       "      <td>6082.515068</td>\n",
       "      <td>2692.581910</td>\n",
       "      <td>3483.406534</td>\n",
       "      <td>3755.847800</td>\n",
       "      <td>3712.202921</td>\n",
       "      <td>2064.452797</td>\n",
       "      <td>...</td>\n",
       "      <td>2.758981</td>\n",
       "      <td>17.952021</td>\n",
       "      <td>274.658747</td>\n",
       "      <td>0.054029</td>\n",
       "      <td>18.520919</td>\n",
       "      <td>23.645398</td>\n",
       "      <td>6.703134</td>\n",
       "      <td>0.046077</td>\n",
       "      <td>3.398826</td>\n",
       "      <td>4.321485</td>\n",
       "    </tr>\n",
       "    <tr>\n",
       "      <th>std</th>\n",
       "      <td>60504.431823</td>\n",
       "      <td>0.330519</td>\n",
       "      <td>75696.082531</td>\n",
       "      <td>9220.623400</td>\n",
       "      <td>10918.812767</td>\n",
       "      <td>4308.586781</td>\n",
       "      <td>5770.461279</td>\n",
       "      <td>53905.892230</td>\n",
       "      <td>53374.833430</td>\n",
       "      <td>2370.786034</td>\n",
       "      <td>...</td>\n",
       "      <td>2.554502</td>\n",
       "      <td>17.379741</td>\n",
       "      <td>4245.264648</td>\n",
       "      <td>0.218039</td>\n",
       "      <td>224.797423</td>\n",
       "      <td>26.469861</td>\n",
       "      <td>2.103864</td>\n",
       "      <td>0.200692</td>\n",
       "      <td>8.813729</td>\n",
       "      <td>10.308108</td>\n",
       "    </tr>\n",
       "    <tr>\n",
       "      <th>min</th>\n",
       "      <td>1.000000</td>\n",
       "      <td>0.000000</td>\n",
       "      <td>-48.000000</td>\n",
       "      <td>-93.012667</td>\n",
       "      <td>-93.012667</td>\n",
       "      <td>-23737.140000</td>\n",
       "      <td>-24720.580000</td>\n",
       "      <td>-29.000000</td>\n",
       "      <td>-29.000000</td>\n",
       "      <td>0.000000</td>\n",
       "      <td>...</td>\n",
       "      <td>0.000000</td>\n",
       "      <td>0.000000</td>\n",
       "      <td>0.000000</td>\n",
       "      <td>0.000000</td>\n",
       "      <td>0.000000</td>\n",
       "      <td>0.000000</td>\n",
       "      <td>0.000000</td>\n",
       "      <td>0.000000</td>\n",
       "      <td>0.000000</td>\n",
       "      <td>0.000000</td>\n",
       "    </tr>\n",
       "    <tr>\n",
       "      <th>25%</th>\n",
       "      <td>52399.000000</td>\n",
       "      <td>1.000000</td>\n",
       "      <td>246.000000</td>\n",
       "      <td>42.440000</td>\n",
       "      <td>42.692000</td>\n",
       "      <td>280.420000</td>\n",
       "      <td>300.260000</td>\n",
       "      <td>1.000000</td>\n",
       "      <td>0.000000</td>\n",
       "      <td>770.000000</td>\n",
       "      <td>...</td>\n",
       "      <td>1.000000</td>\n",
       "      <td>6.000000</td>\n",
       "      <td>6.000000</td>\n",
       "      <td>0.000000</td>\n",
       "      <td>1.000000</td>\n",
       "      <td>6.000000</td>\n",
       "      <td>6.000000</td>\n",
       "      <td>0.000000</td>\n",
       "      <td>0.000000</td>\n",
       "      <td>0.000000</td>\n",
       "    </tr>\n",
       "    <tr>\n",
       "      <th>50%</th>\n",
       "      <td>104797.000000</td>\n",
       "      <td>1.000000</td>\n",
       "      <td>527.000000</td>\n",
       "      <td>1469.175667</td>\n",
       "      <td>1500.000000</td>\n",
       "      <td>1083.570000</td>\n",
       "      <td>1334.000000</td>\n",
       "      <td>3.000000</td>\n",
       "      <td>0.000000</td>\n",
       "      <td>1539.000000</td>\n",
       "      <td>...</td>\n",
       "      <td>2.000000</td>\n",
       "      <td>12.000000</td>\n",
       "      <td>6.000000</td>\n",
       "      <td>0.000000</td>\n",
       "      <td>2.000000</td>\n",
       "      <td>12.000000</td>\n",
       "      <td>6.000000</td>\n",
       "      <td>0.000000</td>\n",
       "      <td>0.000000</td>\n",
       "      <td>1.666667</td>\n",
       "    </tr>\n",
       "    <tr>\n",
       "      <th>75%</th>\n",
       "      <td>157195.000000</td>\n",
       "      <td>1.000000</td>\n",
       "      <td>982.000000</td>\n",
       "      <td>7244.000000</td>\n",
       "      <td>7802.790000</td>\n",
       "      <td>3356.940000</td>\n",
       "      <td>4201.790000</td>\n",
       "      <td>7.000000</td>\n",
       "      <td>0.000000</td>\n",
       "      <td>2309.000000</td>\n",
       "      <td>...</td>\n",
       "      <td>4.000000</td>\n",
       "      <td>24.000000</td>\n",
       "      <td>6.000000</td>\n",
       "      <td>0.000000</td>\n",
       "      <td>5.000000</td>\n",
       "      <td>30.000000</td>\n",
       "      <td>6.000000</td>\n",
       "      <td>0.000000</td>\n",
       "      <td>3.750000</td>\n",
       "      <td>4.500000</td>\n",
       "    </tr>\n",
       "    <tr>\n",
       "      <th>max</th>\n",
       "      <td>209593.000000</td>\n",
       "      <td>1.000000</td>\n",
       "      <td>999860.755168</td>\n",
       "      <td>265926.000000</td>\n",
       "      <td>320630.000000</td>\n",
       "      <td>198926.110000</td>\n",
       "      <td>200148.110000</td>\n",
       "      <td>998650.377733</td>\n",
       "      <td>999171.809410</td>\n",
       "      <td>55000.000000</td>\n",
       "      <td>...</td>\n",
       "      <td>50.000000</td>\n",
       "      <td>306.000000</td>\n",
       "      <td>99864.560864</td>\n",
       "      <td>3.000000</td>\n",
       "      <td>4997.517944</td>\n",
       "      <td>438.000000</td>\n",
       "      <td>12.000000</td>\n",
       "      <td>3.000000</td>\n",
       "      <td>171.500000</td>\n",
       "      <td>171.500000</td>\n",
       "    </tr>\n",
       "  </tbody>\n",
       "</table>\n",
       "<p>8 rows × 34 columns</p>\n",
       "</div>"
      ],
      "text/plain": [
       "          Unnamed: 0          label            aon   daily_decr30  \\\n",
       "count  209593.000000  209593.000000  209593.000000  209593.000000   \n",
       "mean   104797.000000       0.875177    8112.343445    5381.402289   \n",
       "std     60504.431823       0.330519   75696.082531    9220.623400   \n",
       "min         1.000000       0.000000     -48.000000     -93.012667   \n",
       "25%     52399.000000       1.000000     246.000000      42.440000   \n",
       "50%    104797.000000       1.000000     527.000000    1469.175667   \n",
       "75%    157195.000000       1.000000     982.000000    7244.000000   \n",
       "max    209593.000000       1.000000  999860.755168  265926.000000   \n",
       "\n",
       "        daily_decr90       rental30       rental90  last_rech_date_ma  \\\n",
       "count  209593.000000  209593.000000  209593.000000      209593.000000   \n",
       "mean     6082.515068    2692.581910    3483.406534        3755.847800   \n",
       "std     10918.812767    4308.586781    5770.461279       53905.892230   \n",
       "min       -93.012667  -23737.140000  -24720.580000         -29.000000   \n",
       "25%        42.692000     280.420000     300.260000           1.000000   \n",
       "50%      1500.000000    1083.570000    1334.000000           3.000000   \n",
       "75%      7802.790000    3356.940000    4201.790000           7.000000   \n",
       "max    320630.000000  198926.110000  200148.110000      998650.377733   \n",
       "\n",
       "       last_rech_date_da  last_rech_amt_ma  ...    cnt_loans30   amnt_loans30  \\\n",
       "count      209593.000000     209593.000000  ...  209593.000000  209593.000000   \n",
       "mean         3712.202921       2064.452797  ...       2.758981      17.952021   \n",
       "std         53374.833430       2370.786034  ...       2.554502      17.379741   \n",
       "min           -29.000000          0.000000  ...       0.000000       0.000000   \n",
       "25%             0.000000        770.000000  ...       1.000000       6.000000   \n",
       "50%             0.000000       1539.000000  ...       2.000000      12.000000   \n",
       "75%             0.000000       2309.000000  ...       4.000000      24.000000   \n",
       "max        999171.809410      55000.000000  ...      50.000000     306.000000   \n",
       "\n",
       "       maxamnt_loans30  medianamnt_loans30    cnt_loans90   amnt_loans90  \\\n",
       "count    209593.000000       209593.000000  209593.000000  209593.000000   \n",
       "mean        274.658747            0.054029      18.520919      23.645398   \n",
       "std        4245.264648            0.218039     224.797423      26.469861   \n",
       "min           0.000000            0.000000       0.000000       0.000000   \n",
       "25%           6.000000            0.000000       1.000000       6.000000   \n",
       "50%           6.000000            0.000000       2.000000      12.000000   \n",
       "75%           6.000000            0.000000       5.000000      30.000000   \n",
       "max       99864.560864            3.000000    4997.517944     438.000000   \n",
       "\n",
       "       maxamnt_loans90  medianamnt_loans90      payback30      payback90  \n",
       "count    209593.000000       209593.000000  209593.000000  209593.000000  \n",
       "mean          6.703134            0.046077       3.398826       4.321485  \n",
       "std           2.103864            0.200692       8.813729      10.308108  \n",
       "min           0.000000            0.000000       0.000000       0.000000  \n",
       "25%           6.000000            0.000000       0.000000       0.000000  \n",
       "50%           6.000000            0.000000       0.000000       1.666667  \n",
       "75%           6.000000            0.000000       3.750000       4.500000  \n",
       "max          12.000000            3.000000     171.500000     171.500000  \n",
       "\n",
       "[8 rows x 34 columns]"
      ]
     },
     "execution_count": 7,
     "metadata": {},
     "output_type": "execute_result"
    }
   ],
   "source": [
    "df.describe()"
   ]
  },
  {
   "cell_type": "code",
   "execution_count": 8,
   "metadata": {},
   "outputs": [
    {
     "data": {
      "text/plain": [
       "Unnamed: 0              0\n",
       "label                   0\n",
       "msisdn                  0\n",
       "aon                     0\n",
       "daily_decr30            0\n",
       "daily_decr90            0\n",
       "rental30                0\n",
       "rental90                0\n",
       "last_rech_date_ma       0\n",
       "last_rech_date_da       0\n",
       "last_rech_amt_ma        0\n",
       "cnt_ma_rech30           0\n",
       "fr_ma_rech30            0\n",
       "sumamnt_ma_rech30       0\n",
       "medianamnt_ma_rech30    0\n",
       "medianmarechprebal30    0\n",
       "cnt_ma_rech90           0\n",
       "fr_ma_rech90            0\n",
       "sumamnt_ma_rech90       0\n",
       "medianamnt_ma_rech90    0\n",
       "medianmarechprebal90    0\n",
       "cnt_da_rech30           0\n",
       "fr_da_rech30            0\n",
       "cnt_da_rech90           0\n",
       "fr_da_rech90            0\n",
       "cnt_loans30             0\n",
       "amnt_loans30            0\n",
       "maxamnt_loans30         0\n",
       "medianamnt_loans30      0\n",
       "cnt_loans90             0\n",
       "amnt_loans90            0\n",
       "maxamnt_loans90         0\n",
       "medianamnt_loans90      0\n",
       "payback30               0\n",
       "payback90               0\n",
       "pcircle                 0\n",
       "pdate                   0\n",
       "dtype: int64"
      ]
     },
     "execution_count": 8,
     "metadata": {},
     "output_type": "execute_result"
    }
   ],
   "source": [
    "df.isnull().sum()"
   ]
  },
  {
   "cell_type": "code",
   "execution_count": 9,
   "metadata": {},
   "outputs": [
    {
     "name": "stdout",
     "output_type": "stream",
     "text": [
      "<class 'pandas.core.frame.DataFrame'>\n",
      "RangeIndex: 209593 entries, 0 to 209592\n",
      "Data columns (total 37 columns):\n",
      " #   Column                Non-Null Count   Dtype  \n",
      "---  ------                --------------   -----  \n",
      " 0   Unnamed: 0            209593 non-null  int64  \n",
      " 1   label                 209593 non-null  int64  \n",
      " 2   msisdn                209593 non-null  object \n",
      " 3   aon                   209593 non-null  float64\n",
      " 4   daily_decr30          209593 non-null  float64\n",
      " 5   daily_decr90          209593 non-null  float64\n",
      " 6   rental30              209593 non-null  float64\n",
      " 7   rental90              209593 non-null  float64\n",
      " 8   last_rech_date_ma     209593 non-null  float64\n",
      " 9   last_rech_date_da     209593 non-null  float64\n",
      " 10  last_rech_amt_ma      209593 non-null  int64  \n",
      " 11  cnt_ma_rech30         209593 non-null  int64  \n",
      " 12  fr_ma_rech30          209593 non-null  float64\n",
      " 13  sumamnt_ma_rech30     209593 non-null  float64\n",
      " 14  medianamnt_ma_rech30  209593 non-null  float64\n",
      " 15  medianmarechprebal30  209593 non-null  float64\n",
      " 16  cnt_ma_rech90         209593 non-null  int64  \n",
      " 17  fr_ma_rech90          209593 non-null  int64  \n",
      " 18  sumamnt_ma_rech90     209593 non-null  int64  \n",
      " 19  medianamnt_ma_rech90  209593 non-null  float64\n",
      " 20  medianmarechprebal90  209593 non-null  float64\n",
      " 21  cnt_da_rech30         209593 non-null  float64\n",
      " 22  fr_da_rech30          209593 non-null  float64\n",
      " 23  cnt_da_rech90         209593 non-null  int64  \n",
      " 24  fr_da_rech90          209593 non-null  int64  \n",
      " 25  cnt_loans30           209593 non-null  int64  \n",
      " 26  amnt_loans30          209593 non-null  int64  \n",
      " 27  maxamnt_loans30       209593 non-null  float64\n",
      " 28  medianamnt_loans30    209593 non-null  float64\n",
      " 29  cnt_loans90           209593 non-null  float64\n",
      " 30  amnt_loans90          209593 non-null  int64  \n",
      " 31  maxamnt_loans90       209593 non-null  int64  \n",
      " 32  medianamnt_loans90    209593 non-null  float64\n",
      " 33  payback30             209593 non-null  float64\n",
      " 34  payback90             209593 non-null  float64\n",
      " 35  pcircle               209593 non-null  object \n",
      " 36  pdate                 209593 non-null  object \n",
      "dtypes: float64(21), int64(13), object(3)\n",
      "memory usage: 59.2+ MB\n"
     ]
    }
   ],
   "source": [
    "df.info()"
   ]
  },
  {
   "cell_type": "code",
   "execution_count": 10,
   "metadata": {},
   "outputs": [],
   "source": [
    "df.drop(['Unnamed: 0','msisdn'],inplace=True,axis=1)"
   ]
  },
  {
   "cell_type": "code",
   "execution_count": 11,
   "metadata": {},
   "outputs": [
    {
     "data": {
      "text/plain": [
       "<matplotlib.axes._subplots.AxesSubplot at 0x1afaff12eb8>"
      ]
     },
     "execution_count": 11,
     "metadata": {},
     "output_type": "execute_result"
    },
    {
     "data": {
      "image/png": "[encoded data removed]",
      "text/plain": [
       "<Figure size 2880x864 with 2 Axes>"
      ]
     },
     "metadata": {},
     "output_type": "display_data"
    }
   ],
   "source": [
    "#corelation matrix.\n",
    "cor_mat= df[:].corr()\n",
    "mask = np.array(cor_mat)\n",
    "mask[np.tril_indices_from(mask)] = False\n",
    "fig=plt.gcf()\n",
    "fig.set_size_inches(40,12)\n",
    "sns.heatmap(data=cor_mat,mask=mask,square=True,annot=False,cbar=True)"
   ]
  },
  {
   "cell_type": "code",
   "execution_count": 21,
   "metadata": {},
   "outputs": [
    {
     "data": {
      "text/html": [
       "<div>\n",
       "<style scoped>\n",
       "    .dataframe tbody tr th:only-of-type {\n",
       "        vertical-align: middle;\n",
       "    }\n",
       "\n",
       "    .dataframe tbody tr th {\n",
       "        vertical-align: top;\n",
       "    }\n",
       "\n",
       "    .dataframe thead th {\n",
       "        text-align: right;\n",
       "    }\n",
       "</style>\n",
       "<table border=\"1\" class=\"dataframe\">\n",
       "  <thead>\n",
       "    <tr style=\"text-align: right;\">\n",
       "      <th></th>\n",
       "      <th>label</th>\n",
       "      <th>aon</th>\n",
       "      <th>daily_decr30</th>\n",
       "      <th>daily_decr90</th>\n",
       "      <th>rental30</th>\n",
       "      <th>rental90</th>\n",
       "      <th>last_rech_date_ma</th>\n",
       "      <th>last_rech_date_da</th>\n",
       "      <th>last_rech_amt_ma</th>\n",
       "      <th>cnt_ma_rech30</th>\n",
       "      <th>...</th>\n",
       "      <th>maxamnt_loans30</th>\n",
       "      <th>medianamnt_loans30</th>\n",
       "      <th>cnt_loans90</th>\n",
       "      <th>amnt_loans90</th>\n",
       "      <th>maxamnt_loans90</th>\n",
       "      <th>medianamnt_loans90</th>\n",
       "      <th>payback30</th>\n",
       "      <th>payback90</th>\n",
       "      <th>pcircle</th>\n",
       "      <th>pdate</th>\n",
       "    </tr>\n",
       "  </thead>\n",
       "  <tbody>\n",
       "    <tr>\n",
       "      <th>0</th>\n",
       "      <td>0</td>\n",
       "      <td>272.0</td>\n",
       "      <td>3055.050000</td>\n",
       "      <td>3065.150000</td>\n",
       "      <td>220.13</td>\n",
       "      <td>260.13</td>\n",
       "      <td>2.0</td>\n",
       "      <td>0.0</td>\n",
       "      <td>1539</td>\n",
       "      <td>2</td>\n",
       "      <td>...</td>\n",
       "      <td>6.0</td>\n",
       "      <td>0.0</td>\n",
       "      <td>2.0</td>\n",
       "      <td>12</td>\n",
       "      <td>6</td>\n",
       "      <td>0.0</td>\n",
       "      <td>29.000000</td>\n",
       "      <td>29.000000</td>\n",
       "      <td>UPW</td>\n",
       "      <td>2016-07-20</td>\n",
       "    </tr>\n",
       "    <tr>\n",
       "      <th>1</th>\n",
       "      <td>1</td>\n",
       "      <td>712.0</td>\n",
       "      <td>12122.000000</td>\n",
       "      <td>12124.750000</td>\n",
       "      <td>3691.26</td>\n",
       "      <td>3691.26</td>\n",
       "      <td>20.0</td>\n",
       "      <td>0.0</td>\n",
       "      <td>5787</td>\n",
       "      <td>1</td>\n",
       "      <td>...</td>\n",
       "      <td>12.0</td>\n",
       "      <td>0.0</td>\n",
       "      <td>1.0</td>\n",
       "      <td>12</td>\n",
       "      <td>12</td>\n",
       "      <td>0.0</td>\n",
       "      <td>0.000000</td>\n",
       "      <td>0.000000</td>\n",
       "      <td>UPW</td>\n",
       "      <td>2016-08-10</td>\n",
       "    </tr>\n",
       "    <tr>\n",
       "      <th>2</th>\n",
       "      <td>1</td>\n",
       "      <td>535.0</td>\n",
       "      <td>1398.000000</td>\n",
       "      <td>1398.000000</td>\n",
       "      <td>900.13</td>\n",
       "      <td>900.13</td>\n",
       "      <td>3.0</td>\n",
       "      <td>0.0</td>\n",
       "      <td>1539</td>\n",
       "      <td>1</td>\n",
       "      <td>...</td>\n",
       "      <td>6.0</td>\n",
       "      <td>0.0</td>\n",
       "      <td>1.0</td>\n",
       "      <td>6</td>\n",
       "      <td>6</td>\n",
       "      <td>0.0</td>\n",
       "      <td>0.000000</td>\n",
       "      <td>0.000000</td>\n",
       "      <td>UPW</td>\n",
       "      <td>2016-08-19</td>\n",
       "    </tr>\n",
       "    <tr>\n",
       "      <th>3</th>\n",
       "      <td>1</td>\n",
       "      <td>241.0</td>\n",
       "      <td>21.228000</td>\n",
       "      <td>21.228000</td>\n",
       "      <td>159.42</td>\n",
       "      <td>159.42</td>\n",
       "      <td>41.0</td>\n",
       "      <td>0.0</td>\n",
       "      <td>947</td>\n",
       "      <td>0</td>\n",
       "      <td>...</td>\n",
       "      <td>6.0</td>\n",
       "      <td>0.0</td>\n",
       "      <td>2.0</td>\n",
       "      <td>12</td>\n",
       "      <td>6</td>\n",
       "      <td>0.0</td>\n",
       "      <td>0.000000</td>\n",
       "      <td>0.000000</td>\n",
       "      <td>UPW</td>\n",
       "      <td>2016-06-06</td>\n",
       "    </tr>\n",
       "    <tr>\n",
       "      <th>4</th>\n",
       "      <td>1</td>\n",
       "      <td>947.0</td>\n",
       "      <td>150.619333</td>\n",
       "      <td>150.619333</td>\n",
       "      <td>1098.90</td>\n",
       "      <td>1098.90</td>\n",
       "      <td>4.0</td>\n",
       "      <td>0.0</td>\n",
       "      <td>2309</td>\n",
       "      <td>7</td>\n",
       "      <td>...</td>\n",
       "      <td>6.0</td>\n",
       "      <td>0.0</td>\n",
       "      <td>7.0</td>\n",
       "      <td>42</td>\n",
       "      <td>6</td>\n",
       "      <td>0.0</td>\n",
       "      <td>2.333333</td>\n",
       "      <td>2.333333</td>\n",
       "      <td>UPW</td>\n",
       "      <td>2016-06-22</td>\n",
       "    </tr>\n",
       "  </tbody>\n",
       "</table>\n",
       "<p>5 rows × 35 columns</p>\n",
       "</div>"
      ],
      "text/plain": [
       "   label    aon  daily_decr30  daily_decr90  rental30  rental90  \\\n",
       "0      0  272.0   3055.050000   3065.150000    220.13    260.13   \n",
       "1      1  712.0  12122.000000  12124.750000   3691.26   3691.26   \n",
       "2      1  535.0   1398.000000   1398.000000    900.13    900.13   \n",
       "3      1  241.0     21.228000     21.228000    159.42    159.42   \n",
       "4      1  947.0    150.619333    150.619333   1098.90   1098.90   \n",
       "\n",
       "   last_rech_date_ma  last_rech_date_da  last_rech_amt_ma  cnt_ma_rech30  ...  \\\n",
       "0                2.0                0.0              1539              2  ...   \n",
       "1               20.0                0.0              5787              1  ...   \n",
       "2                3.0                0.0              1539              1  ...   \n",
       "3               41.0                0.0               947              0  ...   \n",
       "4                4.0                0.0              2309              7  ...   \n",
       "\n",
       "   maxamnt_loans30  medianamnt_loans30  cnt_loans90  amnt_loans90  \\\n",
       "0              6.0                 0.0          2.0            12   \n",
       "1             12.0                 0.0          1.0            12   \n",
       "2              6.0                 0.0          1.0             6   \n",
       "3              6.0                 0.0          2.0            12   \n",
       "4              6.0                 0.0          7.0            42   \n",
       "\n",
       "   maxamnt_loans90  medianamnt_loans90  payback30  payback90  pcircle  \\\n",
       "0                6                 0.0  29.000000  29.000000      UPW   \n",
       "1               12                 0.0   0.000000   0.000000      UPW   \n",
       "2                6                 0.0   0.000000   0.000000      UPW   \n",
       "3                6                 0.0   0.000000   0.000000      UPW   \n",
       "4                6                 0.0   2.333333   2.333333      UPW   \n",
       "\n",
       "        pdate  \n",
       "0  2016-07-20  \n",
       "1  2016-08-10  \n",
       "2  2016-08-19  \n",
       "3  2016-06-06  \n",
       "4  2016-06-22  \n",
       "\n",
       "[5 rows x 35 columns]"
      ]
     },
     "execution_count": 21,
     "metadata": {},
     "output_type": "execute_result"
    }
   ],
   "source": [
    "df.head()"
   ]
  },
  {
   "cell_type": "code",
   "execution_count": 24,
   "metadata": {
    "scrolled": false
   },
   "outputs": [
    {
     "name": "stdout",
     "output_type": "stream",
     "text": [
      "fr_da_rech90           -0.005418\n",
      "medianmarechprebal30   -0.004829\n",
      "aon                    -0.003785\n",
      "fr_da_rech30           -0.000027\n",
      "maxamnt_loans30         0.000248\n",
      "fr_ma_rech30            0.001330\n",
      "last_rech_date_da       0.001711\n",
      "cnt_da_rech90           0.002999\n",
      "last_rech_date_ma       0.003728\n",
      "cnt_da_rech30           0.003827\n",
      "cnt_loans90             0.004733\n",
      "medianamnt_loans90      0.035747\n",
      "medianmarechprebal90    0.039300\n",
      "medianamnt_loans30      0.044589\n",
      "payback30               0.048336\n",
      "payback90               0.049183\n",
      "rental30                0.058085\n",
      "rental90                0.075521\n",
      "maxamnt_loans90         0.084144\n",
      "fr_ma_rech90            0.084385\n",
      "medianamnt_ma_rech90    0.120855\n",
      "last_rech_amt_ma        0.131804\n",
      "medianamnt_ma_rech30    0.141490\n",
      "daily_decr90            0.166150\n",
      "daily_decr30            0.168298\n",
      "cnt_loans30             0.196283\n",
      "amnt_loans30            0.197272\n",
      "amnt_loans90            0.199788\n",
      "sumamnt_ma_rech30       0.202828\n",
      "sumamnt_ma_rech90       0.205793\n",
      "cnt_ma_rech90           0.236392\n",
      "cnt_ma_rech30           0.237331\n",
      "label                   1.000000\n",
      "Name: label, dtype: float64\n"
     ]
    }
   ],
   "source": [
    "correlations_data = df.corr()['label'].sort_values()\n",
    "print(correlations_data)"
   ]
  },
  {
   "cell_type": "code",
   "execution_count": 116,
   "metadata": {},
   "outputs": [
    {
     "data": {
      "text/plain": [
       "<seaborn.axisgrid.FacetGrid at 0x1affa9fd7b8>"
      ]
     },
     "execution_count": 116,
     "metadata": {},
     "output_type": "execute_result"
    },
    {
     "data": {
      "image/png": "[encoded data removed]",
      "text/plain": [
       "<Figure size 360x360 with 1 Axes>"
      ]
     },
     "metadata": {},
     "output_type": "display_data"
    }
   ],
   "source": [
    "sns.catplot(x='label',y='daily_decr90',data=df)"
   ]
  },
  {
   "cell_type": "code",
   "execution_count": 125,
   "metadata": {},
   "outputs": [
    {
     "data": {
      "text/plain": [
       "<matplotlib.axes._subplots.AxesSubplot at 0x1b198444320>"
      ]
     },
     "execution_count": 125,
     "metadata": {},
     "output_type": "execute_result"
    },
    {
     "data": {
      "image/png": "[encoded data removed]",
      "text/plain": [
       "<Figure size 432x288 with 1 Axes>"
      ]
     },
     "metadata": {},
     "output_type": "display_data"
    }
   ],
   "source": [
    "sns.boxplot(x='daily_decr30',data=df,hue='label')"
   ]
  },
  {
   "cell_type": "code",
   "execution_count": 15,
   "metadata": {},
   "outputs": [
    {
     "data": {
      "text/plain": [
       "<seaborn.axisgrid.FacetGrid at 0x1afef01f358>"
      ]
     },
     "execution_count": 15,
     "metadata": {},
     "output_type": "execute_result"
    },
    {
     "data": {
      "image/png": "[encoded data removed]",
      "text/plain": [
       "<Figure size 360x360 with 1 Axes>"
      ]
     },
     "metadata": {},
     "output_type": "display_data"
    }
   ],
   "source": [
    "sns.catplot(x='label',y='daily_decr30',data=df)"
   ]
  },
  {
   "cell_type": "markdown",
   "metadata": {},
   "source": [
    "Hence, it is safe to say that if daily amount spent is above 50,000 the user is likely to pay loan."
   ]
  },
  {
   "cell_type": "code",
   "execution_count": 18,
   "metadata": {},
   "outputs": [
    {
     "data": {
      "text/plain": [
       "<seaborn.axisgrid.FacetGrid at 0x1aff680bda0>"
      ]
     },
     "execution_count": 18,
     "metadata": {},
     "output_type": "execute_result"
    },
    {
     "data": {
      "image/png": "[encoded data removed]",
      "text/plain": [
       "<Figure size 360x360 with 1 Axes>"
      ]
     },
     "metadata": {},
     "output_type": "display_data"
    }
   ],
   "source": [
    "sns.catplot(x='label',y='rental30',data=df)"
   ]
  },
  {
   "cell_type": "code",
   "execution_count": 19,
   "metadata": {},
   "outputs": [
    {
     "data": {
      "text/plain": [
       "<seaborn.axisgrid.FacetGrid at 0x1aff67f1898>"
      ]
     },
     "execution_count": 19,
     "metadata": {},
     "output_type": "execute_result"
    },
    {
     "data": {
      "image/png": "[encoded data removed]",
      "text/plain": [
       "<Figure size 360x360 with 1 Axes>"
      ]
     },
     "metadata": {},
     "output_type": "display_data"
    }
   ],
   "source": [
    "sns.catplot(x='label',y='rental90',data=df)"
   ]
  },
  {
   "cell_type": "code",
   "execution_count": 20,
   "metadata": {},
   "outputs": [
    {
     "data": {
      "text/plain": [
       "<seaborn.axisgrid.FacetGrid at 0x1aff69a7f60>"
      ]
     },
     "execution_count": 20,
     "metadata": {},
     "output_type": "execute_result"
    },
    {
     "data": {
      "image/png": "[encoded data removed]",
      "text/plain": [
       "<Figure size 360x360 with 1 Axes>"
      ]
     },
     "metadata": {},
     "output_type": "display_data"
    }
   ],
   "source": [
    "sns.catplot(x='label',y='cnt_ma_rech30',data=df)"
   ]
  },
  {
   "cell_type": "code",
   "execution_count": 51,
   "metadata": {},
   "outputs": [],
   "source": [
    "# # # Feature Engineering and Selection\n",
    "\n",
    "def remove_collinear_features(x, threshold):\n",
    "    '''\n",
    "    Objective:\n",
    "        Remove collinear features in a dataframe with a correlation coefficient\n",
    "        greater than the threshold. Removing collinear features can help a model\n",
    "        to generalize and improves the interpretability of the model.\n",
    "        \n",
    "    Inputs: \n",
    "        threshold: any features with correlations greater than this value are removed\n",
    "    \n",
    "    Output: \n",
    "        dataframe that contains only the non-highly-collinear features\n",
    "    '''\n",
    "    \n",
    "    # Dont want to remove correlations between loss\n",
    "    y = x['label']\n",
    "    x = x.drop(columns = ['label'])\n",
    "    \n",
    "    # Calculate the correlation matrix\n",
    "    corr_matrix = x.corr()\n",
    "    iters = range(len(corr_matrix.columns) - 1)\n",
    "    drop_cols = []\n",
    "\n",
    "    # Iterate through the correlation matrix and compare correlations\n",
    "    for i in iters:\n",
    "        for j in range(i):\n",
    "            item = corr_matrix.iloc[j:(j+1), (i+1):(i+2)]\n",
    "            col = item.columns\n",
    "            row = item.index\n",
    "            val = abs(item.values)\n",
    "            \n",
    "            # If correlation exceeds the threshold\n",
    "            if val >= threshold:\n",
    "                drop_cols.append(col.values[0])\n",
    "\n",
    "    # Drop one of each pair of correlated columns\n",
    "    drops = set(drop_cols)\n",
    "    x = x.drop(columns = drops)\n",
    "    \n",
    "    # Add the score back in to the data\n",
    "    x['label'] = y\n",
    "               \n",
    "    return (x,drops)"
   ]
  },
  {
   "cell_type": "code",
   "execution_count": 52,
   "metadata": {},
   "outputs": [],
   "source": [
    "(df_copy,drops)=remove_collinear_features(df,0.6)"
   ]
  },
  {
   "cell_type": "code",
   "execution_count": 53,
   "metadata": {},
   "outputs": [
    {
     "data": {
      "text/plain": [
       "(209593, 26)"
      ]
     },
     "execution_count": 53,
     "metadata": {},
     "output_type": "execute_result"
    }
   ],
   "source": [
    "df_copy.shape"
   ]
  },
  {
   "cell_type": "code",
   "execution_count": 54,
   "metadata": {},
   "outputs": [
    {
     "data": {
      "text/plain": [
       "{'amnt_loans30',\n",
       " 'amnt_loans90',\n",
       " 'cnt_loans30',\n",
       " 'cnt_ma_rech90',\n",
       " 'medianamnt_loans90',\n",
       " 'medianamnt_ma_rech30',\n",
       " 'medianamnt_ma_rech90',\n",
       " 'sumamnt_ma_rech30',\n",
       " 'sumamnt_ma_rech90'}"
      ]
     },
     "execution_count": 54,
     "metadata": {},
     "output_type": "execute_result"
    }
   ],
   "source": [
    "drops"
   ]
  },
  {
   "cell_type": "code",
   "execution_count": 61,
   "metadata": {},
   "outputs": [
    {
     "data": {
      "text/html": [
       "<div>\n",
       "<style scoped>\n",
       "    .dataframe tbody tr th:only-of-type {\n",
       "        vertical-align: middle;\n",
       "    }\n",
       "\n",
       "    .dataframe tbody tr th {\n",
       "        vertical-align: top;\n",
       "    }\n",
       "\n",
       "    .dataframe thead th {\n",
       "        text-align: right;\n",
       "    }\n",
       "</style>\n",
       "<table border=\"1\" class=\"dataframe\">\n",
       "  <thead>\n",
       "    <tr style=\"text-align: right;\">\n",
       "      <th></th>\n",
       "      <th>aon</th>\n",
       "      <th>daily_decr30</th>\n",
       "      <th>daily_decr90</th>\n",
       "      <th>rental30</th>\n",
       "      <th>rental90</th>\n",
       "      <th>last_rech_date_ma</th>\n",
       "      <th>last_rech_date_da</th>\n",
       "      <th>last_rech_amt_ma</th>\n",
       "      <th>cnt_ma_rech30</th>\n",
       "      <th>fr_ma_rech30</th>\n",
       "      <th>...</th>\n",
       "      <th>fr_da_rech90</th>\n",
       "      <th>maxamnt_loans30</th>\n",
       "      <th>medianamnt_loans30</th>\n",
       "      <th>cnt_loans90</th>\n",
       "      <th>maxamnt_loans90</th>\n",
       "      <th>payback30</th>\n",
       "      <th>payback90</th>\n",
       "      <th>pcircle</th>\n",
       "      <th>pdate</th>\n",
       "      <th>label</th>\n",
       "    </tr>\n",
       "  </thead>\n",
       "  <tbody>\n",
       "    <tr>\n",
       "      <th>0</th>\n",
       "      <td>272.0</td>\n",
       "      <td>3055.050000</td>\n",
       "      <td>3065.150000</td>\n",
       "      <td>220.13</td>\n",
       "      <td>260.13</td>\n",
       "      <td>2.0</td>\n",
       "      <td>0.0</td>\n",
       "      <td>1539</td>\n",
       "      <td>2</td>\n",
       "      <td>21.0</td>\n",
       "      <td>...</td>\n",
       "      <td>0</td>\n",
       "      <td>6.0</td>\n",
       "      <td>0.0</td>\n",
       "      <td>2.0</td>\n",
       "      <td>6</td>\n",
       "      <td>29.000000</td>\n",
       "      <td>29.000000</td>\n",
       "      <td>UPW</td>\n",
       "      <td>2016-07-20</td>\n",
       "      <td>0</td>\n",
       "    </tr>\n",
       "    <tr>\n",
       "      <th>1</th>\n",
       "      <td>712.0</td>\n",
       "      <td>12122.000000</td>\n",
       "      <td>12124.750000</td>\n",
       "      <td>3691.26</td>\n",
       "      <td>3691.26</td>\n",
       "      <td>20.0</td>\n",
       "      <td>0.0</td>\n",
       "      <td>5787</td>\n",
       "      <td>1</td>\n",
       "      <td>0.0</td>\n",
       "      <td>...</td>\n",
       "      <td>0</td>\n",
       "      <td>12.0</td>\n",
       "      <td>0.0</td>\n",
       "      <td>1.0</td>\n",
       "      <td>12</td>\n",
       "      <td>0.000000</td>\n",
       "      <td>0.000000</td>\n",
       "      <td>UPW</td>\n",
       "      <td>2016-08-10</td>\n",
       "      <td>1</td>\n",
       "    </tr>\n",
       "    <tr>\n",
       "      <th>2</th>\n",
       "      <td>535.0</td>\n",
       "      <td>1398.000000</td>\n",
       "      <td>1398.000000</td>\n",
       "      <td>900.13</td>\n",
       "      <td>900.13</td>\n",
       "      <td>3.0</td>\n",
       "      <td>0.0</td>\n",
       "      <td>1539</td>\n",
       "      <td>1</td>\n",
       "      <td>0.0</td>\n",
       "      <td>...</td>\n",
       "      <td>0</td>\n",
       "      <td>6.0</td>\n",
       "      <td>0.0</td>\n",
       "      <td>1.0</td>\n",
       "      <td>6</td>\n",
       "      <td>0.000000</td>\n",
       "      <td>0.000000</td>\n",
       "      <td>UPW</td>\n",
       "      <td>2016-08-19</td>\n",
       "      <td>1</td>\n",
       "    </tr>\n",
       "    <tr>\n",
       "      <th>3</th>\n",
       "      <td>241.0</td>\n",
       "      <td>21.228000</td>\n",
       "      <td>21.228000</td>\n",
       "      <td>159.42</td>\n",
       "      <td>159.42</td>\n",
       "      <td>41.0</td>\n",
       "      <td>0.0</td>\n",
       "      <td>947</td>\n",
       "      <td>0</td>\n",
       "      <td>0.0</td>\n",
       "      <td>...</td>\n",
       "      <td>0</td>\n",
       "      <td>6.0</td>\n",
       "      <td>0.0</td>\n",
       "      <td>2.0</td>\n",
       "      <td>6</td>\n",
       "      <td>0.000000</td>\n",
       "      <td>0.000000</td>\n",
       "      <td>UPW</td>\n",
       "      <td>2016-06-06</td>\n",
       "      <td>1</td>\n",
       "    </tr>\n",
       "    <tr>\n",
       "      <th>4</th>\n",
       "      <td>947.0</td>\n",
       "      <td>150.619333</td>\n",
       "      <td>150.619333</td>\n",
       "      <td>1098.90</td>\n",
       "      <td>1098.90</td>\n",
       "      <td>4.0</td>\n",
       "      <td>0.0</td>\n",
       "      <td>2309</td>\n",
       "      <td>7</td>\n",
       "      <td>2.0</td>\n",
       "      <td>...</td>\n",
       "      <td>0</td>\n",
       "      <td>6.0</td>\n",
       "      <td>0.0</td>\n",
       "      <td>7.0</td>\n",
       "      <td>6</td>\n",
       "      <td>2.333333</td>\n",
       "      <td>2.333333</td>\n",
       "      <td>UPW</td>\n",
       "      <td>2016-06-22</td>\n",
       "      <td>1</td>\n",
       "    </tr>\n",
       "  </tbody>\n",
       "</table>\n",
       "<p>5 rows × 26 columns</p>\n",
       "</div>"
      ],
      "text/plain": [
       "     aon  daily_decr30  daily_decr90  rental30  rental90  last_rech_date_ma  \\\n",
       "0  272.0   3055.050000   3065.150000    220.13    260.13                2.0   \n",
       "1  712.0  12122.000000  12124.750000   3691.26   3691.26               20.0   \n",
       "2  535.0   1398.000000   1398.000000    900.13    900.13                3.0   \n",
       "3  241.0     21.228000     21.228000    159.42    159.42               41.0   \n",
       "4  947.0    150.619333    150.619333   1098.90   1098.90                4.0   \n",
       "\n",
       "   last_rech_date_da  last_rech_amt_ma  cnt_ma_rech30  fr_ma_rech30  ...  \\\n",
       "0                0.0              1539              2          21.0  ...   \n",
       "1                0.0              5787              1           0.0  ...   \n",
       "2                0.0              1539              1           0.0  ...   \n",
       "3                0.0               947              0           0.0  ...   \n",
       "4                0.0              2309              7           2.0  ...   \n",
       "\n",
       "   fr_da_rech90  maxamnt_loans30  medianamnt_loans30  cnt_loans90  \\\n",
       "0             0              6.0                 0.0          2.0   \n",
       "1             0             12.0                 0.0          1.0   \n",
       "2             0              6.0                 0.0          1.0   \n",
       "3             0              6.0                 0.0          2.0   \n",
       "4             0              6.0                 0.0          7.0   \n",
       "\n",
       "   maxamnt_loans90  payback30  payback90  pcircle       pdate  label  \n",
       "0                6  29.000000  29.000000      UPW  2016-07-20      0  \n",
       "1               12   0.000000   0.000000      UPW  2016-08-10      1  \n",
       "2                6   0.000000   0.000000      UPW  2016-08-19      1  \n",
       "3                6   0.000000   0.000000      UPW  2016-06-06      1  \n",
       "4                6   2.333333   2.333333      UPW  2016-06-22      1  \n",
       "\n",
       "[5 rows x 26 columns]"
      ]
     },
     "execution_count": 61,
     "metadata": {},
     "output_type": "execute_result"
    }
   ],
   "source": [
    "df_copy.head()"
   ]
  },
  {
   "cell_type": "code",
   "execution_count": 63,
   "metadata": {},
   "outputs": [
    {
     "data": {
      "text/plain": [
       "UPW    209593\n",
       "Name: pcircle, dtype: int64"
      ]
     },
     "execution_count": 63,
     "metadata": {},
     "output_type": "execute_result"
    }
   ],
   "source": [
    "df_copy['pcircle'].value_counts()"
   ]
  },
  {
   "cell_type": "code",
   "execution_count": 64,
   "metadata": {},
   "outputs": [],
   "source": [
    "df_copy.drop(['pcircle','pdate'],inplace=True,axis=1)"
   ]
  },
  {
   "cell_type": "code",
   "execution_count": 65,
   "metadata": {},
   "outputs": [
    {
     "name": "stdout",
     "output_type": "stream",
     "text": [
      "fr_da_rech90           -0.005418\n",
      "medianmarechprebal30   -0.004829\n",
      "aon                    -0.003785\n",
      "fr_da_rech30           -0.000027\n",
      "maxamnt_loans30         0.000248\n",
      "fr_ma_rech30            0.001330\n",
      "last_rech_date_da       0.001711\n",
      "cnt_da_rech90           0.002999\n",
      "last_rech_date_ma       0.003728\n",
      "cnt_da_rech30           0.003827\n",
      "cnt_loans90             0.004733\n",
      "medianmarechprebal90    0.039300\n",
      "medianamnt_loans30      0.044589\n",
      "payback30               0.048336\n",
      "payback90               0.049183\n",
      "rental30                0.058085\n",
      "rental90                0.075521\n",
      "maxamnt_loans90         0.084144\n",
      "fr_ma_rech90            0.084385\n",
      "last_rech_amt_ma        0.131804\n",
      "daily_decr90            0.166150\n",
      "daily_decr30            0.168298\n",
      "cnt_ma_rech30           0.237331\n",
      "label                   1.000000\n",
      "Name: label, dtype: float64\n"
     ]
    }
   ],
   "source": [
    "correlations_data2 = df_copy.corr()['label'].sort_values()\n",
    "print(correlations_data2)"
   ]
  },
  {
   "cell_type": "code",
   "execution_count": 66,
   "metadata": {},
   "outputs": [],
   "source": [
    "from sklearn.model_selection import train_test_split\n"
   ]
  },
  {
   "cell_type": "code",
   "execution_count": 67,
   "metadata": {},
   "outputs": [],
   "source": [
    "X_train,X_test,Y_train,Y_test=train_test_split(df_copy.drop('label',axis=1),pd.DataFrame(df_copy['label']),test_size=0.2,random_state=42)"
   ]
  },
  {
   "cell_type": "code",
   "execution_count": 68,
   "metadata": {},
   "outputs": [
    {
     "name": "stdout",
     "output_type": "stream",
     "text": [
      "(167674, 23)\n",
      "(41919, 23)\n",
      "(167674, 1)\n",
      "(41919, 1)\n"
     ]
    }
   ],
   "source": [
    "print(X_train.shape)\n",
    "print(X_test.shape)\n",
    "print(Y_train.shape)\n",
    "print(Y_test.shape)"
   ]
  },
  {
   "cell_type": "code",
   "execution_count": 69,
   "metadata": {},
   "outputs": [],
   "source": [
    "from sklearn.preprocessing import StandardScaler\n",
    "sc=StandardScaler()\n",
    "X_train=sc.fit_transform(X_train)\n",
    "X_test=sc.fit_transform(X_test)"
   ]
  },
  {
   "cell_type": "code",
   "execution_count": 71,
   "metadata": {},
   "outputs": [
    {
     "data": {
      "text/plain": [
       "array([[-0.10137575, -0.58411217, -0.55701664, ..., -0.33333103,\n",
       "        -0.38281117, -0.41672253],\n",
       "       [-0.10569595, -0.58370794, -0.55667573, ..., -0.33333103,\n",
       "        -0.38281117, -0.41672253],\n",
       "       [-0.10105964,  0.38276857,  0.3387625 , ..., -0.33333103,\n",
       "         0.13307853,  0.15970496],\n",
       "       ...,\n",
       "       [-0.10418125, -0.26487105, -0.28778759, ..., -0.33333103,\n",
       "         1.07513798,  0.83220369],\n",
       "       [-0.10451053, -0.58342389, -0.55643618, ..., -0.33333103,\n",
       "        -0.38281117, -0.41672253],\n",
       "       [-0.10294314, -0.5843316 , -0.55720169, ..., -0.33333103,\n",
       "        -0.38281117, -0.41672253]])"
      ]
     },
     "execution_count": 71,
     "metadata": {},
     "output_type": "execute_result"
    }
   ],
   "source": [
    "X_train"
   ]
  },
  {
   "cell_type": "code",
   "execution_count": 72,
   "metadata": {},
   "outputs": [
    {
     "data": {
      "text/plain": [
       "array([1, 1, 1, ..., 1, 1, 0], dtype=int64)"
      ]
     },
     "execution_count": 72,
     "metadata": {},
     "output_type": "execute_result"
    }
   ],
   "source": [
    "Y_train = np.array(Y_train).reshape((-1, ))\n",
    "Y_test = np.array(Y_test).reshape((-1, ))\n",
    "Y_train"
   ]
  },
  {
   "cell_type": "code",
   "execution_count": 78,
   "metadata": {},
   "outputs": [],
   "source": [
    "def cross_val(X_train, Y_train, model):\n",
    "    # Applying k-Fold Cross Validation\n",
    "    from sklearn.model_selection import cross_val_score\n",
    "    accuracies = cross_val_score(estimator = model, X = X_train, y = Y_train, cv = 5)\n",
    "    return accuracies.mean()"
   ]
  },
  {
   "cell_type": "code",
   "execution_count": 85,
   "metadata": {},
   "outputs": [],
   "source": [
    "def fit_and_evaluate(model):\n",
    "    \n",
    "    # Train the model\n",
    "    model.fit(X_train, Y_train)\n",
    "    \n",
    "    # Make predictions and evalute\n",
    "    model_pred = model.predict(X_test)\n",
    "    model_cross = cross_val(X_train, Y_train, model)\n",
    "    \n",
    "    # Return the performance metric\n",
    "    return model_cross"
   ]
  },
  {
   "cell_type": "code",
   "execution_count": 86,
   "metadata": {},
   "outputs": [],
   "source": [
    "from sklearn import metrics\n",
    "from sklearn.linear_model import LogisticRegression\n",
    "from sklearn.ensemble import RandomForestClassifier,GradientBoostingClassifier\n",
    "from sklearn.svm import LinearSVC,SVC"
   ]
  },
  {
   "cell_type": "code",
   "execution_count": 92,
   "metadata": {},
   "outputs": [
    {
     "name": "stdout",
     "output_type": "stream",
     "text": [
      "Random Forest Performance on the test set: Cross Validation Score = 0.9067\n"
     ]
    }
   ],
   "source": [
    "random = RandomForestClassifier(n_estimators = 10, criterion = 'entropy')\n",
    "random_cross = fit_and_evaluate(random)\n",
    "\n",
    "print('Random Forest Performance on the test set: Cross Validation Score = %0.4f' % random_cross)"
   ]
  },
  {
   "cell_type": "code",
   "execution_count": 88,
   "metadata": {},
   "outputs": [
    {
     "name": "stdout",
     "output_type": "stream",
     "text": [
      "Logistic Regression Performance on the test set: Cross Validation Score = 0.8766\n"
     ]
    }
   ],
   "source": [
    "lr=LogisticRegression()\n",
    "lr_cross = fit_and_evaluate(lr)\n",
    "\n",
    "print('Logistic Regression Performance on the test set: Cross Validation Score = %0.4f' % lr_cross)"
   ]
  },
  {
   "cell_type": "markdown",
   "metadata": {},
   "source": [
    "Hence, Random forest Clasiifier proves to be a better model in this case"
   ]
  },
  {
   "cell_type": "markdown",
   "metadata": {},
   "source": [
    "Do, a bit of tuning to find best parameters fro the model"
   ]
  },
  {
   "cell_type": "code",
   "execution_count": 111,
   "metadata": {},
   "outputs": [
    {
     "name": "stdout",
     "output_type": "stream",
     "text": [
      "done\n"
     ]
    }
   ],
   "source": [
    "from sklearn.model_selection import GridSearchCV\n",
    "from sklearn.metrics import accuracy_score,precision_score,recall_score,f1_score \n",
    "rfc = RandomForestClassifier(n_jobs=-1) \n",
    "\n",
    "param_dict = { \n",
    "    'n_estimators': [20],\n",
    "    'max_features': ['auto','sqrt'],    \n",
    "    'max_depth' : [8,10,15,20],\n",
    "    'criterion' : ['entropy']\n",
    "}\n",
    "\n",
    "CV_rfc = GridSearchCV(estimator=rfc, param_grid=param_dict, cv= 5)\n",
    "CV_rfc.fit(X_train,Y_train)"
   ]
  },
  {
   "cell_type": "code",
   "execution_count": 112,
   "metadata": {},
   "outputs": [
    {
     "data": {
      "text/plain": [
       "{'criterion': 'entropy',\n",
       " 'max_depth': 20,\n",
       " 'max_features': 'sqrt',\n",
       " 'n_estimators': 20}"
      ]
     },
     "execution_count": 112,
     "metadata": {},
     "output_type": "execute_result"
    }
   ],
   "source": [
    "CV_rfc.best_params_"
   ]
  },
  {
   "cell_type": "code",
   "execution_count": 113,
   "metadata": {},
   "outputs": [
    {
     "data": {
      "text/plain": [
       "0.9483700514092823"
      ]
     },
     "execution_count": 113,
     "metadata": {},
     "output_type": "execute_result"
    }
   ],
   "source": [
    "CV_rfc.score(X_train,Y_train)"
   ]
  },
  {
   "cell_type": "code",
   "execution_count": 115,
   "metadata": {},
   "outputs": [
    {
     "name": "stdout",
     "output_type": "stream",
     "text": [
      "Random Forest Performance on the test set: Cross Validation Score = 0.9128\n"
     ]
    }
   ],
   "source": [
    "random = RandomForestClassifier(n_estimators = 20,max_depth=20, max_features='sqrt', criterion = 'entropy')\n",
    "random_cross = fit_and_evaluate(random)\n",
    "\n",
    "print('Random Forest Performance on the test set: Cross Validation Score = %0.4f' % random_cross)"
   ]
  },
  {
   "cell_type": "code",
   "execution_count": 123,
   "metadata": {},
   "outputs": [
    {
     "name": "stdout",
     "output_type": "stream",
     "text": [
      "Accuracy for Random Forest on CV data:  0.877072449247358\n"
     ]
    }
   ],
   "source": [
    "Y_predict=random.predict(X_test)\n",
    "print(\"Accuracy for Random Forest on CV data: \",accuracy_score(Y_test,Y_predict))"
   ]
  },
  {
   "cell_type": "code",
   "execution_count": null,
   "metadata": {},
   "outputs": [],
   "source": []
  }
 ],
 "metadata": {
  "kernelspec": {
   "display_name": "Python 3",
   "language": "python",
   "name": "python3"
  },
  "language_info": {
   "codemirror_mode": {
    "name": "ipython",
    "version": 3
   },
   "file_extension": ".py",
   "mimetype": "text/x-python",
   "name": "python",
   "nbconvert_exporter": "python",
   "pygments_lexer": "ipython3",
   "version": "3.7.3"
  }
 },
 "nbformat": 4,
 "nbformat_minor": 4
}
